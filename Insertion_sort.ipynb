{
 "cells": [
  {
   "cell_type": "code",
   "execution_count": 8,
   "metadata": {},
   "outputs": [
    {
     "name": "stdout",
     "output_type": "stream",
     "text": [
      "[1, 2, 4, 6, 7, 11, 22]\n"
     ]
    }
   ],
   "source": [
    "def insertion_sort(nums):\n",
    "    \n",
    "    # start from the second element beacuse we assume that 1st element be sorted\n",
    "    for i in range(1, len(nums)):\n",
    "        item_to_insert = nums[i]\n",
    "        \n",
    "        #keep the refrence of previous elemnt\n",
    "        \n",
    "        j = i- 1\n",
    "        \n",
    "        # item to insert\n",
    "        while j>=0 and nums[j] > item_to_insert:\n",
    "            nums[j+1]=nums[j]\n",
    "            j -= 1\n",
    "        # insert the item\n",
    "        \n",
    "        nums[j+1] = item_to_insert\n",
    "        \n",
    "        \n",
    "        \n",
    "arr=[4,2,7,22,6,11,1]\n",
    "insertion_sort(arr)\n",
    "print(arr)"
   ]
  },
  {
   "cell_type": "code",
   "execution_count": null,
   "metadata": {},
   "outputs": [],
   "source": []
  }
 ],
 "metadata": {
  "kernelspec": {
   "display_name": "Python 3",
   "language": "python",
   "name": "python3"
  },
  "language_info": {
   "codemirror_mode": {
    "name": "ipython",
    "version": 3
   },
   "file_extension": ".py",
   "mimetype": "text/x-python",
   "name": "python",
   "nbconvert_exporter": "python",
   "pygments_lexer": "ipython3",
   "version": "3.8.5"
  }
 },
 "nbformat": 4,
 "nbformat_minor": 4
}
