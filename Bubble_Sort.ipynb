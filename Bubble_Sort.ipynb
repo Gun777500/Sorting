{
 "cells": [
  {
   "cell_type": "code",
   "execution_count": 2,
   "metadata": {},
   "outputs": [
    {
     "name": "stdout",
     "output_type": "stream",
     "text": [
      "[1, 3, 7, 4, 9]\n"
     ]
    }
   ],
   "source": [
    "def bubble_sort(nums):\n",
    "    \n",
    "    # we take swapped to true beacause loop should run atleat onces\n",
    "    \n",
    "    swapped= True\n",
    "    while swapped:\n",
    "        swapped =False\n",
    "        for i in range(len(nums)-1):\n",
    "            if nums[i]>nums[1+1]:\n",
    "                # swap the element\n",
    "                nums[i],nums[i+1] = nums[i+1],nums[i]\n",
    "                # set the flag true so we'll loop again\n",
    "                swapped = True  \n",
    "                \n",
    "random_list_of_nums=[1,7,3,9,4]\n",
    "bubble_sort(random_list_of_nums)\n",
    "print(random_list_of_nums)"
   ]
  },
  {
   "cell_type": "markdown",
   "metadata": {},
   "source": [
    "# Time Complecity   ===  O(n^2)"
   ]
  },
  {
   "cell_type": "code",
   "execution_count": null,
   "metadata": {},
   "outputs": [],
   "source": []
  }
 ],
 "metadata": {
  "kernelspec": {
   "display_name": "Python 3",
   "language": "python",
   "name": "python3"
  },
  "language_info": {
   "codemirror_mode": {
    "name": "ipython",
    "version": 3
   },
   "file_extension": ".py",
   "mimetype": "text/x-python",
   "name": "python",
   "nbconvert_exporter": "python",
   "pygments_lexer": "ipython3",
   "version": "3.8.5"
  }
 },
 "nbformat": 4,
 "nbformat_minor": 4
}
