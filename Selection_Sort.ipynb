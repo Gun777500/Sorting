{
 "cells": [
  {
   "cell_type": "code",
   "execution_count": 24,
   "metadata": {},
   "outputs": [
    {
     "name": "stdout",
     "output_type": "stream",
     "text": [
      "[1, 2, 4, 7, 8, 9]\n"
     ]
    }
   ],
   "source": [
    "def selection_sort(nums):\n",
    "    \n",
    "    # i means how many value will sort\n",
    "    for i in range(len(nums)):\n",
    "        \n",
    "        # assume the 1st item of unsorted list is smallest number\n",
    "        lowest_value = i\n",
    "        \n",
    "        # these loop iterate over the unsorted item\n",
    "        for j in range(i+1, len(nums)):\n",
    "            if nums[j]< nums[lowest_value]:\n",
    "                lowest_value = j\n",
    "            \n",
    "            # swap the lowest unsorted element with the first unsorted element\n",
    "        nums[i], nums[lowest_value] = nums[lowest_value], nums[i]\n",
    "        \n",
    "        \n",
    "arr=[7,1,8,4,2,9]\n",
    "selection_sort(arr)\n",
    "print(arr)"
   ]
  },
  {
   "cell_type": "code",
   "execution_count": null,
   "metadata": {},
   "outputs": [],
   "source": []
  },
  {
   "cell_type": "code",
   "execution_count": null,
   "metadata": {},
   "outputs": [],
   "source": []
  }
 ],
 "metadata": {
  "kernelspec": {
   "display_name": "Python 3",
   "language": "python",
   "name": "python3"
  },
  "language_info": {
   "codemirror_mode": {
    "name": "ipython",
    "version": 3
   },
   "file_extension": ".py",
   "mimetype": "text/x-python",
   "name": "python",
   "nbconvert_exporter": "python",
   "pygments_lexer": "ipython3",
   "version": "3.8.5"
  }
 },
 "nbformat": 4,
 "nbformat_minor": 4
}
